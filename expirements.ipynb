{
 "cells": [
  {
   "cell_type": "code",
   "execution_count": 1,
   "id": "c2f47eb4",
   "metadata": {},
   "outputs": [
    {
     "name": "stdout",
     "output_type": "stream",
     "text": [
      "ujjwal\n"
     ]
    }
   ],
   "source": [
    "print(\"ujjwal\")"
   ]
  },
  {
   "cell_type": "code",
   "execution_count": 2,
   "id": "d3fa8460",
   "metadata": {},
   "outputs": [],
   "source": [
    "from langchain import PromptTemplate\n"
   ]
  },
  {
   "cell_type": "code",
   "execution_count": 3,
   "id": "03d30a1f",
   "metadata": {},
   "outputs": [
    {
     "name": "stdout",
     "output_type": "stream",
     "text": [
      "Requirement already satisfied: pymupdf in c:\\anaconda\\envs\\bookchatbot\\lib\\site-packages (1.25.5)\n",
      "Note: you may need to restart the kernel to use updated packages.\n"
     ]
    }
   ],
   "source": [
    "pip install pymupdf"
   ]
  },
  {
   "cell_type": "code",
   "execution_count": 4,
   "id": "21efd85d",
   "metadata": {},
   "outputs": [],
   "source": [
    "from langchain.chains import RetrievalQA\n",
    "from langchain_google_genai import GoogleGenerativeAIEmbeddings\n",
    "\n",
    "from langchain.document_loaders import PyMuPDFLoader, DirectoryLoader\n",
    "from langchain.text_splitter import RecursiveCharacterTextSplitter\n",
    "from langchain_google_genai import ChatGoogleGenerativeAI\n",
    "import os"
   ]
  },
  {
   "cell_type": "code",
   "execution_count": 5,
   "id": "4abb3408",
   "metadata": {},
   "outputs": [
    {
     "data": {
      "text/plain": [
       "True"
      ]
     },
     "execution_count": 5,
     "metadata": {},
     "output_type": "execute_result"
    }
   ],
   "source": [
    "from dotenv import load_dotenv\n",
    "load_dotenv()"
   ]
  },
  {
   "cell_type": "code",
   "execution_count": 6,
   "id": "f0e8858e",
   "metadata": {},
   "outputs": [],
   "source": [
    "PINECONE_API_KEY=os.getenv(\"PINECONE_API_KEY\")"
   ]
  },
  {
   "cell_type": "code",
   "execution_count": null,
   "id": "70e1eb95",
   "metadata": {},
   "outputs": [],
   "source": []
  },
  {
   "cell_type": "code",
   "execution_count": 7,
   "id": "f62a39b6",
   "metadata": {},
   "outputs": [],
   "source": [
    "def load_pdf(data):\n",
    "    loader = DirectoryLoader(data,glob=\"*.pdf\", loader_cls=PyMuPDFLoader)\n",
    "    documents = loader.load()\n",
    "    return documents"
   ]
  },
  {
   "cell_type": "code",
   "execution_count": 8,
   "id": "e935b765",
   "metadata": {},
   "outputs": [],
   "source": [
    "extraced_date = load_pdf(\"data/\")"
   ]
  },
  {
   "cell_type": "markdown",
   "id": "02c14926",
   "metadata": {},
   "source": [
    "Create text chunks "
   ]
  },
  {
   "cell_type": "code",
   "execution_count": 9,
   "id": "a2877b62",
   "metadata": {},
   "outputs": [],
   "source": [
    "def text_splitter(extraced_date):\n",
    "    text_split = RecursiveCharacterTextSplitter(chunk_size=500, chunk_overlap=20)\n",
    "    text_chunks = text_split.split_documents(extraced_date)\n",
    "    return text_chunks"
   ]
  },
  {
   "cell_type": "code",
   "execution_count": 10,
   "id": "6523884c",
   "metadata": {},
   "outputs": [
    {
     "name": "stdout",
     "output_type": "stream",
     "text": [
      "lenght of chunks 23\n"
     ]
    }
   ],
   "source": [
    "text_chunks = text_splitter(extraced_date)\n",
    "print(\"lenght of chunks\", len(text_chunks))"
   ]
  },
  {
   "cell_type": "code",
   "execution_count": 11,
   "id": "afdf182c",
   "metadata": {},
   "outputs": [],
   "source": [
    "def load_geneni_embeddings():\n",
    "    embeddings = GoogleGenerativeAIEmbeddings(\n",
    "    model=\"models/embedding-001\",\n",
    "    google_api_key=os.getenv(\"GOOGLE_API_KEY\"))\n",
    "    return embeddings"
   ]
  },
  {
   "cell_type": "code",
   "execution_count": 12,
   "id": "75b34c07",
   "metadata": {},
   "outputs": [],
   "source": [
    "embeddings = load_geneni_embeddings()"
   ]
  },
  {
   "cell_type": "code",
   "execution_count": 13,
   "id": "1947ab0b",
   "metadata": {},
   "outputs": [
    {
     "data": {
      "text/plain": [
       "GoogleGenerativeAIEmbeddings(client=<google.ai.generativelanguage_v1beta.services.generative_service.client.GenerativeServiceClient object at 0x0000022BC7F31A50>, model='models/embedding-001', task_type=None, google_api_key=SecretStr('**********'), credentials=None, client_options=None, transport=None, request_options=None)"
      ]
     },
     "execution_count": 13,
     "metadata": {},
     "output_type": "execute_result"
    }
   ],
   "source": [
    "embeddings "
   ]
  },
  {
   "cell_type": "code",
   "execution_count": 14,
   "id": "0ccae4ab",
   "metadata": {},
   "outputs": [],
   "source": [
    "from pinecone import Pinecone\n",
    "from langchain_pinecone import PineconeVectorStore\n",
    "\n",
    "pc = Pinecone(api_key= PINECONE_API_KEY)\n",
    "index = pc.Index(\"bookchat\")\n",
    "vector_store= PineconeVectorStore.from_texts(\n",
    "    [t.page_content for t in text_chunks],\n",
    "    embedding=embeddings,\n",
    "    index_name=\"bookchat\")\n"
   ]
  },
  {
   "cell_type": "code",
   "execution_count": 16,
   "id": "1cae0bf0",
   "metadata": {},
   "outputs": [
    {
     "name": "stdout",
     "output_type": "stream",
     "text": [
      "Result [Document(id='bd629292-ce74-4567-841b-319f629ccd63', metadata={}, page_content='- **Social Engineering**: AI enhancing targeted scams through believable chatbots and voice \\nassistants, potentially compromising software security measures. \\n \\n## Project Management AI-Driven Workflows \\n \\nAI-driven workflows are revolutionizing project management in software engineering, enhancing \\nefficiency and accuracy. Key tools include: \\n \\n1. **Asana AI**: Automates tasks with AI-powered productivity recommendations and smart workflows, \\nstreamlining software project management.'), Document(id='0e30a83b-84e4-47c0-96cd-fc1db3a524ba', metadata={}, page_content='- **Social Engineering**: AI enhancing targeted scams through believable chatbots and voice \\nassistants, potentially compromising software security measures. \\n \\n## Project Management AI-Driven Workflows \\n \\nAI-driven workflows are revolutionizing project management in software engineering, enhancing \\nefficiency and accuracy. Key tools include: \\n \\n1. **Asana AI**: Automates tasks with AI-powered productivity recommendations and smart workflows, \\nstreamlining software project management.'), Document(id='604b7330-93ae-4155-aea8-29d7b95f4c8c', metadata={}, page_content='- **Social Engineering**: AI enhancing targeted scams through believable chatbots and voice \\nassistants, potentially compromising software security measures. \\n \\n## Project Management AI-Driven Workflows \\n \\nAI-driven workflows are revolutionizing project management in software engineering, enhancing \\nefficiency and accuracy. Key tools include: \\n \\n1. **Asana AI**: Automates tasks with AI-powered productivity recommendations and smart workflows, \\nstreamlining software project management.')]\n"
     ]
    }
   ],
   "source": [
    "docsearch = PineconeVectorStore.from_existing_index(index_name=\"bookchat\",embedding=embeddings)\n",
    "\n",
    "query = \"what social engineering\"\n",
    "\n",
    "docs = docsearch.similarity_search(query, k=3)\n",
    "print(\"Result\", docs)"
   ]
  },
  {
   "cell_type": "code",
   "execution_count": 17,
   "id": "f8693435",
   "metadata": {},
   "outputs": [],
   "source": [
    "PromptTemplates = \"\"\"\n",
    " Use the following pieces of the information to answer the user's question.\n",
    " If you don't know the answer,just say you don't know, dont try to make up an answer.\n",
    "\n",
    " context: {context}\n",
    " Question: {question}\n",
    "\n",
    " Only retrun the helpful answer below and nothing else.\n",
    " Helpful Answer:\n",
    " \"\"\""
   ]
  },
  {
   "cell_type": "code",
   "execution_count": 18,
   "id": "6fc658ce",
   "metadata": {},
   "outputs": [],
   "source": [
    "from langchain.prompts import PromptTemplate"
   ]
  },
  {
   "cell_type": "code",
   "execution_count": 19,
   "id": "ade357ea",
   "metadata": {},
   "outputs": [],
   "source": [
    "context_prompt=PromptTemplate(\n",
    "    input_variables=[\"context\", \"question\"],\n",
    "    template=PromptTemplates,\n",
    ")\n",
    "chain_type_kwargs = {\"prompt\": context_prompt}"
   ]
  },
  {
   "cell_type": "code",
   "execution_count": 20,
   "id": "4fe7b8a7",
   "metadata": {},
   "outputs": [],
   "source": [
    "llm = ChatGoogleGenerativeAI(model=\"gemini-2.0-flash\")"
   ]
  },
  {
   "cell_type": "markdown",
   "id": "c7023274",
   "metadata": {},
   "source": [
    "The below method has been deprecated so we can do like this also "
   ]
  },
  {
   "cell_type": "code",
   "execution_count": 21,
   "id": "9e89d38a",
   "metadata": {},
   "outputs": [],
   "source": [
    "qa = RetrievalQA.from_chain_type(\n",
    "    llm=llm,\n",
    "    chain_type=\"stuff\",\n",
    "    retriever=docsearch.as_retriever(search_kwargs={\"k\": 2}),\n",
    "    return_source_documents=True,\n",
    "    chain_type_kwargs=chain_type_kwargs\n",
    ")"
   ]
  },
  {
   "cell_type": "code",
   "execution_count": null,
   "id": "d199cad7",
   "metadata": {},
   "outputs": [],
   "source": [
    "from langchain_core.runnables import RunnableMap\n",
    "from langchain.chains import RetrievalQA\n",
    "from langchain.chains.qa_with_sources import load_qa_with_sources_chain"
   ]
  },
  {
   "cell_type": "markdown",
   "id": "f5bccd13",
   "metadata": {},
   "source": []
  },
  {
   "cell_type": "markdown",
   "id": "0db3e14a",
   "metadata": {},
   "source": [
    "qa_chain = load_qa_with_sources_chain(llm, chain_type=\"stuff\", **chain_type_kwargs).invoke(x[\"question\"])\n",
    "retrieval_qa_chain = RunnableMap({\n",
    "    \"input_documents\": lambda x: docsearch.as_retriever(search_kwargs={\"k\": 2}).invoke(x[\"question\"]),\n",
    "    \"question\": lambda x: x[\"question\"]\n",
    "}) | qa_chain"
   ]
  },
  {
   "cell_type": "markdown",
   "id": "adeacb6e",
   "metadata": {},
   "source": [
    "while True:\n",
    "    user_input = input(\"enter prompt:\")\n",
    "    result = retrieval_qa_chain.invoke(query)\n",
    "    print(\"Result:\", result['result])"
   ]
  },
  {
   "cell_type": "code",
   "execution_count": null,
   "id": "df2636a8",
   "metadata": {},
   "outputs": [
    {
     "name": "stderr",
     "output_type": "stream",
     "text": [
      "C:\\Users\\HP 15\\AppData\\Local\\Temp\\ipykernel_16664\\2197071624.py:3: LangChainDeprecationWarning: The method `Chain.__call__` was deprecated in langchain 0.1.0 and will be removed in 1.0. Use :meth:`~invoke` instead.\n",
      "  result = qa({\"query\": user_input})\n"
     ]
    },
    {
     "name": "stdout",
     "output_type": "stream",
     "text": [
      "Result:  capabilities rather than viewing it as a replacement for human expertise and creativity.\n",
      "Result:  I don't know.\n"
     ]
    }
   ],
   "source": [
    "while True:\n",
    "    user_input = input(\"Input Prompt: \")\n",
    "    result = qa({\"query\": user_input})\n",
    "    print(\"Result: \", result['result'])\n",
    "    "
   ]
  },
  {
   "cell_type": "code",
   "execution_count": null,
   "id": "a8a15fb2",
   "metadata": {},
   "outputs": [],
   "source": []
  }
 ],
 "metadata": {
  "kernelspec": {
   "display_name": "bookchatbot",
   "language": "python",
   "name": "python3"
  },
  "language_info": {
   "codemirror_mode": {
    "name": "ipython",
    "version": 3
   },
   "file_extension": ".py",
   "mimetype": "text/x-python",
   "name": "python",
   "nbconvert_exporter": "python",
   "pygments_lexer": "ipython3",
   "version": "3.10.16"
  }
 },
 "nbformat": 4,
 "nbformat_minor": 5
}
